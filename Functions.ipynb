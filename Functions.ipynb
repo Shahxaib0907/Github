{
  "nbformat": 4,
  "nbformat_minor": 0,
  "metadata": {
    "accelerator": "TPU",
    "colab": {
      "name": "Functions",
      "provenance": [],
      "authorship_tag": "ABX9TyOiC/pFGpyAERrIp9mTqcst",
      "include_colab_link": true
    },
    "kernelspec": {
      "display_name": "Python 3",
      "name": "python3"
    },
    "language_info": {
      "name": "python"
    }
  },
  "cells": [
    {
      "cell_type": "markdown",
      "metadata": {
        "id": "view-in-github",
        "colab_type": "text"
      },
      "source": [
        "<a href=\"https://colab.research.google.com/github/Shahxaib0907/Github/blob/master/Functions.ipynb\" target=\"_parent\"><img src=\"https://colab.research.google.com/assets/colab-badge.svg\" alt=\"Open In Colab\"/></a>"
      ]
    },
    {
      "cell_type": "code",
      "metadata": {
        "id": "A-L4aaRpJlMN",
        "colab": {
          "base_uri": "https://localhost:8080/"
        },
        "outputId": "de776070-67bd-4345-bc99-71c1285dfaf6"
      },
      "source": [
        "def main():\n",
        "  kitten('09-09-1999')\n",
        "\n",
        "def kitten(dob):\n",
        "  print(f\" Hello Shahzaib!, Your Date of Birth is: {dob} \")\n",
        "if __name__ == \"__main__\" : main()"
      ],
      "execution_count": null,
      "outputs": [
        {
          "output_type": "stream",
          "name": "stdout",
          "text": [
            " Hello Shahzaib!, Your Date of Birth is: 09-09-1999 \n"
          ]
        }
      ]
    },
    {
      "cell_type": "code",
      "metadata": {
        "colab": {
          "base_uri": "https://localhost:8080/"
        },
        "id": "KdKc2Uu8rYVN",
        "outputId": "29b0d8ec-9895-4910-fc22-566fd4b267ec"
      },
      "source": [
        "def main():\n",
        "  kitten(1, 2, 3)\n",
        "\n",
        "def kitten(a, b, c):\n",
        "  print(f\"{a} Hello {b} Shahzaib! {c}\")\n",
        "  print(a, b, c)\n",
        "if __name__ == \"__main__\" : main()"
      ],
      "execution_count": null,
      "outputs": [
        {
          "output_type": "stream",
          "name": "stdout",
          "text": [
            "1 Hello 2 Shahzaib! 3\n",
            "1 2 3\n"
          ]
        }
      ]
    },
    {
      "cell_type": "code",
      "metadata": {
        "colab": {
          "base_uri": "https://localhost:8080/"
        },
        "id": "7wJ4Y-T5sgbE",
        "outputId": "202c233e-3651-4ec4-e8b4-fa286b4e6c40"
      },
      "source": [
        "def main():\n",
        "  x = 25\n",
        "  kitten(x)\n",
        "  print(f\"In main: x is {x}\")\n",
        "\n",
        "  y = [0, 1, 2, 3]\n",
        "  kitten(y)\n",
        "  print(f\"In main: x is {y}\")\n",
        "\n",
        "def kitten(a):\n",
        "\n",
        "  a = 'and Faizan'\n",
        "  b = 'Hello Shahzain'\n",
        "  print(f\" Hello  Shahzaib! {a} {b}\")\n",
        "  \n",
        "\n",
        "if __name__ == \"__main__\" : main()"
      ],
      "execution_count": null,
      "outputs": [
        {
          "output_type": "stream",
          "name": "stdout",
          "text": [
            " Hello  Shahzaib! and Faizan Hello Shahzain\n",
            "In main: x is 25\n",
            " Hello  Shahzaib! and Faizan Hello Shahzain\n",
            "In main: x is [0, 1, 2, 3]\n"
          ]
        }
      ]
    },
    {
      "cell_type": "code",
      "metadata": {
        "colab": {
          "base_uri": "https://localhost:8080/"
        },
        "id": "qkdq0Uqu0y5x",
        "outputId": "23a35885-2710-4180-ce25-01f5e8a991c2"
      },
      "source": [
        "def main():\n",
        "  x = ['Shahzaib', 'Faizan', 'Shahzain', 'Ali']\n",
        "  kitten(*x)\n",
        "  print(x)\n",
        "\n",
        "def kitten(*arg):\n",
        "  if len(arg):\n",
        "    for s in arg:\n",
        "      print(s)\n",
        "  else: \n",
        "    print(\"Thats it\")\n",
        "  \n",
        "  \n",
        "\n",
        "if __name__ == \"__main__\" : main()"
      ],
      "execution_count": null,
      "outputs": [
        {
          "output_type": "stream",
          "name": "stdout",
          "text": [
            "Shahzaib\n",
            "Faizan\n",
            "Shahzain\n",
            "Ali\n",
            "['Shahzaib', 'Faizan', 'Shahzain', 'Ali']\n"
          ]
        }
      ]
    },
    {
      "cell_type": "code",
      "metadata": {
        "colab": {
          "base_uri": "https://localhost:8080/"
        },
        "id": "KVtlhlyF4HQy",
        "outputId": "db508895-f20b-478f-c4c6-2b80762729e5"
      },
      "source": [
        "def main():\n",
        "  x = dict(Smith = 'Syntax error', Carlos = 'Logical error', Till = 'Indentation error')\n",
        "  kitten(**x)\n",
        "\n",
        "def kitten(**kwargs):\n",
        "  if len(kwargs):\n",
        "    for k in kwargs:\n",
        "      print(f\"Computer has founded error {k} says {kwargs[k]}\")\n",
        "  else: \n",
        "    print(\"Thats it\")\n",
        "  \n",
        "  \n",
        "\n",
        "if __name__ == \"__main__\" : main()"
      ],
      "execution_count": null,
      "outputs": [
        {
          "output_type": "stream",
          "name": "stdout",
          "text": [
            "Computer has founded error Smith says Syntax error\n",
            "Computer has founded error Carlos says Logical error\n",
            "Computer has founded error Till says Indentation error\n"
          ]
        }
      ]
    },
    {
      "cell_type": "code",
      "metadata": {
        "colab": {
          "base_uri": "https://localhost:8080/"
        },
        "id": "BvPA3dR36Rnp",
        "outputId": "13c852a1-0362-4bfb-d524-5a5b37fb592e"
      },
      "source": [
        "def main():\n",
        "  x = kitten()\n",
        "  print(type(x), x)\n",
        "\n",
        "def kitten():\n",
        "  print('Hello Kitten')\n",
        "  return [1, 2, 3]\n",
        "  \n",
        "  \n",
        "\n",
        "if __name__ == \"__main__\" : main()"
      ],
      "execution_count": 2,
      "outputs": [
        {
          "output_type": "stream",
          "name": "stdout",
          "text": [
            "Hello Kitten\n",
            "<class 'list'> [1, 2, 3]\n"
          ]
        }
      ]
    },
    {
      "cell_type": "code",
      "metadata": {
        "colab": {
          "base_uri": "https://localhost:8080/"
        },
        "id": "4i-WDxJfh5o9",
        "outputId": "4a015f4b-2d6b-4c2a-9464-e462a581f286"
      },
      "source": [
        "#decorators\n",
        "\n",
        "def f_1():\n",
        "  print(\"Hello Python!\")\n",
        "\n",
        "y = f_1\n",
        "y()"
      ],
      "execution_count": 6,
      "outputs": [
        {
          "output_type": "stream",
          "name": "stdout",
          "text": [
            "Hello Python!\n"
          ]
        }
      ]
    }
  ]
}