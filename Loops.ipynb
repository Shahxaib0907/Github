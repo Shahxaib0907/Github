{
  "nbformat": 4,
  "nbformat_minor": 0,
  "metadata": {
    "accelerator": "TPU",
    "colab": {
      "name": "Loops",
      "provenance": [],
      "authorship_tag": "ABX9TyNxi0Kp3KawMQ0/U+ehAX0F",
      "include_colab_link": true
    },
    "kernelspec": {
      "display_name": "Python 3",
      "name": "python3"
    },
    "language_info": {
      "name": "python"
    }
  },
  "cells": [
    {
      "cell_type": "markdown",
      "metadata": {
        "id": "view-in-github",
        "colab_type": "text"
      },
      "source": [
        "<a href=\"https://colab.research.google.com/github/Shahxaib0907/Github/blob/master/Loops.ipynb\" target=\"_parent\"><img src=\"https://colab.research.google.com/assets/colab-badge.svg\" alt=\"Open In Colab\"/></a>"
      ]
    },
    {
      "cell_type": "code",
      "metadata": {
        "colab": {
          "base_uri": "https://localhost:8080/"
        },
        "id": "IbRzo6fR4QgK",
        "outputId": "04d0623d-1709-4499-8a86-c89a2013be8c"
      },
      "source": [
        "sec = 'Shahzaib'\n",
        "pw = ''\n",
        "count = 0\n",
        "auth = False\n",
        "max_attempts = 5\n",
        "while pw != sec:\n",
        "    count += 1\n",
        "    if count > max_attempts: break\n",
        "    pw = input(f\"{count} Yes this is in it.\")\n",
        "\n",
        "print(\"Authorized\" if auth else \"Calling the CyberCrime!!!!!!d\")"
      ],
      "execution_count": null,
      "outputs": [
        {
          "output_type": "stream",
          "name": "stdout",
          "text": [
            "1 Yes this is in it.d\n",
            "2 Yes this is in it.\n",
            "3 Yes this is in it.d\n",
            "4 Yes this is in it.d\n",
            "5 Yes this is in it.d\n",
            "Calling the CyberCrime!!!!!!\n"
          ]
        }
      ]
    },
    {
      "cell_type": "markdown",
      "metadata": {
        "id": "56HoViFhiU3H"
      },
      "source": [
        "Loops in little bit detail."
      ]
    }
  ]
}