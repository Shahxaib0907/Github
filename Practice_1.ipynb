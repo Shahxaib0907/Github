{
  "nbformat": 4,
  "nbformat_minor": 0,
  "metadata": {
    "accelerator": "TPU",
    "colab": {
      "name": "Practice-1",
      "provenance": [],
      "authorship_tag": "ABX9TyNQE1t0qB6M3wdPlr02nLir",
      "include_colab_link": true
    },
    "kernelspec": {
      "display_name": "Python 3",
      "name": "python3"
    },
    "language_info": {
      "name": "python"
    }
  },
  "cells": [
    {
      "cell_type": "markdown",
      "metadata": {
        "id": "view-in-github",
        "colab_type": "text"
      },
      "source": [
        "<a href=\"https://colab.research.google.com/github/Shahxaib0907/Github/blob/master/Practice_1.ipynb\" target=\"_parent\"><img src=\"https://colab.research.google.com/assets/colab-badge.svg\" alt=\"Open In Colab\"/></a>"
      ]
    },
    {
      "cell_type": "code",
      "metadata": {
        "colab": {
          "base_uri": "https://localhost:8080/"
        },
        "id": "ggjXbU6nb0Hd",
        "outputId": "9101a7e1-0b9f-4d3a-bca9-847f1b8f4139"
      },
      "source": [
        "#control statements\n",
        "\n",
        "def main():\n",
        "  x, y = 18, 18\n",
        "  if (x > y):\n",
        "    st = 'x is greater than y'\n",
        "  elif (x == y):\n",
        "    st = 'x is equal equal to y'\n",
        "  else:\n",
        "    st = 'x is less than y'\n",
        "  print(st)\n",
        "main()"
      ],
      "execution_count": null,
      "outputs": [
        {
          "output_type": "stream",
          "name": "stdout",
          "text": [
            "x is equal equal to y\n"
          ]
        }
      ]
    },
    {
      "cell_type": "code",
      "metadata": {
        "id": "BcYhqWe9ptpm"
      },
      "source": [
        "# Loops\n",
        "def main():\n",
        "  x = 0\n",
        "  while (x < 5):\n",
        "    print(x)\n",
        "    x += 1\n",
        "main()\n",
        "\n",
        "def main_1():\n",
        "  x = 5 \n",
        "  while (x < 20):\n",
        "    print(x)\n",
        "    x = x + 1\n",
        "main_1()\n"
      ],
      "execution_count": null,
      "outputs": []
    },
    {
      "cell_type": "code",
      "metadata": {
        "id": "aiVhb54EIJ5K"
      },
      "source": [
        "xs = list(range(0, 11))\n",
        "for x in xs:\n",
        "  print(x)"
      ],
      "execution_count": null,
      "outputs": []
    },
    {
      "cell_type": "code",
      "metadata": {
        "id": "LXCDedGlK8lq"
      },
      "source": [
        "for i in range(0, 9):\n",
        "  if (i == 3): break\n",
        "  print(i)"
      ],
      "execution_count": null,
      "outputs": []
    },
    {
      "cell_type": "code",
      "metadata": {
        "colab": {
          "base_uri": "https://localhost:8080/"
        },
        "id": "r92NSAC8MJnX",
        "outputId": "1e57e49c-206c-4374-fa01-74c8b02dfd62"
      },
      "source": [
        "for i in range(0, 15):\n",
        "  if (i % 2 == 0):\n",
        "    continue\n",
        "  print(i)"
      ],
      "execution_count": 20,
      "outputs": [
        {
          "output_type": "stream",
          "name": "stdout",
          "text": [
            "1\n",
            "3\n",
            "5\n",
            "7\n",
            "9\n",
            "11\n",
            "13\n"
          ]
        }
      ]
    }
  ]
}