{
  "nbformat": 4,
  "nbformat_minor": 0,
  "metadata": {
    "accelerator": "TPU",
    "colab": {
      "name": "Practice-2",
      "provenance": [],
      "authorship_tag": "ABX9TyNTYT1eVEInLvkQgDOZXO4F",
      "include_colab_link": true
    },
    "kernelspec": {
      "display_name": "Python 3",
      "name": "python3"
    },
    "language_info": {
      "name": "python"
    }
  },
  "cells": [
    {
      "cell_type": "markdown",
      "metadata": {
        "id": "view-in-github",
        "colab_type": "text"
      },
      "source": [
        "<a href=\"https://colab.research.google.com/github/Shahxaib0907/Github/blob/master/Practice_2.ipynb\" target=\"_parent\"><img src=\"https://colab.research.google.com/assets/colab-badge.svg\" alt=\"Open In Colab\"/></a>"
      ]
    },
    {
      "cell_type": "code",
      "metadata": {
        "colab": {
          "base_uri": "https://localhost:8080/"
        },
        "id": "okBsxxO8R1Wr",
        "outputId": "669ef27d-a796-4b00-f87d-429e6955a4e7"
      },
      "source": [
        "# Loops\n",
        "\n",
        "magicians = ['a', 'b', 'c']\n",
        "for magician in magicians:\n",
        "  print(f\" {magician[0].title()} You are a great magicians in the world.\")\n",
        "  print(f\" {magician} Our magicians are looking for a new tricks\\n\")\n",
        "\n",
        "print(f\"Thank you for everyone to joining us.\")"
      ],
      "execution_count": null,
      "outputs": [
        {
          "output_type": "stream",
          "name": "stdout",
          "text": [
            " A You are a great magicians in the world.\n",
            " a Our magicians are looking for a new tricks\n",
            "\n",
            " B You are a great magicians in the world.\n",
            " b Our magicians are looking for a new tricks\n",
            "\n",
            " C You are a great magicians in the world.\n",
            " c Our magicians are looking for a new tricks\n",
            "\n",
            "Thank you for everyone to joining us.\n"
          ]
        }
      ]
    },
    {
      "cell_type": "code",
      "metadata": {
        "colab": {
          "base_uri": "https://localhost:8080/"
        },
        "id": "whhj_tDoj5wv",
        "outputId": "a8d73c35-4b9c-4ebe-b31b-9910658ecaaa"
      },
      "source": [
        "# for loops in numbers\n",
        "\n",
        "\n",
        "\n",
        "numbers = []\n",
        "for value in range(1, 10):\n",
        "  number = value ** 3\n",
        "  numbers.append(number)\n",
        "print(numbers)"
      ],
      "execution_count": 15,
      "outputs": [
        {
          "output_type": "stream",
          "name": "stdout",
          "text": [
            "[1, 8, 27, 64, 125, 216, 343, 512, 729]\n"
          ]
        }
      ]
    },
    {
      "cell_type": "code",
      "metadata": {
        "colab": {
          "base_uri": "https://localhost:8080/"
        },
        "id": "VAk9eAvHm9OE",
        "outputId": "9406ed0a-9d4e-4ae3-d0b1-4156c2494def"
      },
      "source": [
        "name =  [value ** 2 for value in range(0, 11)]\n",
        "print(name)"
      ],
      "execution_count": 18,
      "outputs": [
        {
          "output_type": "stream",
          "name": "stdout",
          "text": [
            "[0, 1, 4, 9, 16, 25, 36, 49, 64, 81, 100]\n"
          ]
        }
      ]
    },
    {
      "cell_type": "code",
      "metadata": {
        "colab": {
          "base_uri": "https://localhost:8080/"
        },
        "id": "oOb-Ae1rnmHz",
        "outputId": "dd156450-8af3-46e7-fcd4-daf5f68ffedc"
      },
      "source": [
        "cubes = []\n",
        "for value in range(1, 11):\n",
        "  cube = value ** 3\n",
        "  cubes.append(cube)\n",
        "print(cubes)"
      ],
      "execution_count": 19,
      "outputs": [
        {
          "output_type": "stream",
          "name": "stdout",
          "text": [
            "[1, 8, 27, 64, 125, 216, 343, 512, 729, 1000]\n"
          ]
        }
      ]
    }
  ]
}