{
  "nbformat": 4,
  "nbformat_minor": 0,
  "metadata": {
    "colab": {
      "name": "Simple_messages",
      "provenance": [],
      "authorship_tag": "ABX9TyNBRfY8hZBl5XX1cpZ94hVv",
      "include_colab_link": true
    },
    "kernelspec": {
      "name": "python3",
      "display_name": "Python 3"
    },
    "language_info": {
      "name": "python"
    },
    "accelerator": "TPU"
  },
  "cells": [
    {
      "cell_type": "markdown",
      "metadata": {
        "id": "view-in-github",
        "colab_type": "text"
      },
      "source": [
        "<a href=\"https://colab.research.google.com/github/Shahxaib0907/Github/blob/master/Simple_messages.ipynb\" target=\"_parent\"><img src=\"https://colab.research.google.com/assets/colab-badge.svg\" alt=\"Open In Colab\"/></a>"
      ]
    },
    {
      "cell_type": "code",
      "metadata": {
        "colab": {
          "base_uri": "https://localhost:8080/"
        },
        "id": "IbRzo6fR4QgK",
        "outputId": "5c50d4af-26ea-42ad-b983-4fbfba148b9b"
      },
      "source": [
        "name_one = \"I am fine and how do you do?\"\n",
        "name = f'Hello Shahzaib {name_one}'\n",
        "print(name)"
      ],
      "execution_count": null,
      "outputs": [
        {
          "output_type": "stream",
          "name": "stdout",
          "text": [
            "Hello Shahzaib I am fine and how do you do?\n"
          ]
        }
      ]
    }
  ]
}