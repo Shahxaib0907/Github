{
  "nbformat": 4,
  "nbformat_minor": 0,
  "metadata": {
    "accelerator": "TPU",
    "colab": {
      "name": "Strings",
      "provenance": [],
      "authorship_tag": "ABX9TyNHlWwqSm6XmIuMgqdZQFTU",
      "include_colab_link": true
    },
    "kernelspec": {
      "display_name": "Python 3",
      "name": "python3"
    },
    "language_info": {
      "name": "python"
    }
  },
  "cells": [
    {
      "cell_type": "markdown",
      "metadata": {
        "id": "view-in-github",
        "colab_type": "text"
      },
      "source": [
        "<a href=\"https://colab.research.google.com/github/Shahxaib0907/Github/blob/master/Strings.ipynb\" target=\"_parent\"><img src=\"https://colab.research.google.com/assets/colab-badge.svg\" alt=\"Open In Colab\"/></a>"
      ]
    },
    {
      "cell_type": "code",
      "metadata": {
        "colab": {
          "base_uri": "https://localhost:8080/"
        },
        "id": "udSNZqvxpvwE",
        "outputId": "39792c11-6ba7-4280-ee93-e377db4f56ca"
      },
      "source": [
        "x = 'Shahzaib'\n",
        "print(x.swapcase())\n"
      ],
      "execution_count": null,
      "outputs": [
        {
          "output_type": "stream",
          "name": "stdout",
          "text": [
            "sHAHZAIB\n"
          ]
        }
      ]
    },
    {
      "cell_type": "code",
      "metadata": {
        "colab": {
          "base_uri": "https://localhost:8080/"
        },
        "id": "aIhHSvNpqbTS",
        "outputId": "e2502dae-f643-4652-83c2-0d71b790739b"
      },
      "source": [
        "s = \"Hello Shahzaib Whats your age: {}\" \n",
        "print(s.format(19))"
      ],
      "execution_count": null,
      "outputs": [
        {
          "output_type": "stream",
          "name": "stdout",
          "text": [
            "Hello Shahzaib Whats your age: 19\n"
          ]
        }
      ]
    },
    {
      "cell_type": "code",
      "metadata": {
        "colab": {
          "base_uri": "https://localhost:8080/"
        },
        "id": "tTc5gOeOq7DT",
        "outputId": "27e7f43d-3245-4665-abd2-7dac7d7ee7c2"
      },
      "source": [
        "class Mystring(str):\n",
        "  def __str__(self):\n",
        "    return self[::-1]\n",
        "s = Mystring('Hello Shahzaib')\n",
        "print(s)"
      ],
      "execution_count": null,
      "outputs": [
        {
          "output_type": "stream",
          "name": "stdout",
          "text": [
            "biazhahS olleH\n"
          ]
        }
      ]
    },
    {
      "cell_type": "code",
      "metadata": {
        "colab": {
          "base_uri": "https://localhost:8080/"
        },
        "id": "IlRK6FaesQ4t",
        "outputId": "b92fd36b-7199-46cc-b470-62649a412bd1"
      },
      "source": [
        "x = 45\n",
        "y = 56\n",
        "\n",
        "print(\"In variable x is {xx} and variable y is {yy}\".format(xx = x, yy = y))"
      ],
      "execution_count": null,
      "outputs": [
        {
          "output_type": "stream",
          "name": "stdout",
          "text": [
            "In variable x is 45 and variable y is 56\n"
          ]
        }
      ]
    },
    {
      "cell_type": "code",
      "metadata": {
        "colab": {
          "base_uri": "https://localhost:8080/"
        },
        "id": "VpceYGnBtEa7",
        "outputId": "a7b767d3-8fc6-4414-b722-c0130ec65a6c"
      },
      "source": [
        "x = 45\n",
        "y = 56\n",
        "\n",
        "print(\"In variable x is {1} and variable y is {0}\".format(x, y))"
      ],
      "execution_count": null,
      "outputs": [
        {
          "output_type": "stream",
          "name": "stdout",
          "text": [
            "In variable x is 56 and variable y is 45\n"
          ]
        }
      ]
    },
    {
      "cell_type": "code",
      "metadata": {
        "colab": {
          "base_uri": "https://localhost:8080/"
        },
        "id": "5jWT1Fj8vGz-",
        "outputId": "b219a73b-cf6d-4251-fb4d-2a092d31a4f9"
      },
      "source": [
        "s = 'Python is an in-demand programming language that can help you unlock the door to a better paying job. '\n",
        "print(s)\n",
        "l = s.split()\n",
        "s1 = ':'.join(l)\n",
        "print(s1)\n",
        "\n"
      ],
      "execution_count": null,
      "outputs": [
        {
          "output_type": "stream",
          "name": "stdout",
          "text": [
            "Python is an in-demand programming language that can help you unlock the door to a better paying job. \n",
            "Python:is:an:in-demand:programming:language:that:can:help:you:unlock:the:door:to:a:better:paying:job.\n"
          ]
        }
      ]
    }
  ]
}